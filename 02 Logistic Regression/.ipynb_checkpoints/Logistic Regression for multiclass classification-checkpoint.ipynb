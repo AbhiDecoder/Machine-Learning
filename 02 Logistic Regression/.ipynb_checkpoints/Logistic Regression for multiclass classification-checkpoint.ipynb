{
 "cells": [
  {
   "cell_type": "markdown",
   "id": "0206aa68-e506-4416-9bd8-e7845ba06491",
   "metadata": {},
   "source": [
    "# Dataset"
   ]
  },
  {
   "cell_type": "code",
   "execution_count": 3,
   "id": "b677ef07-c91e-4744-be91-340a04043fab",
   "metadata": {},
   "outputs": [],
   "source": [
    "import pandas as pd"
   ]
  },
  {
   "cell_type": "code",
   "execution_count": 1,
   "id": "5d0ff03f-c9e5-407f-9bc8-8e93037e6cdd",
   "metadata": {},
   "outputs": [],
   "source": [
    "from sklearn.datasets import make_classification"
   ]
  },
  {
   "cell_type": "code",
   "execution_count": 2,
   "id": "3d7500d3-a8be-4125-8635-4f1d3c51703d",
   "metadata": {},
   "outputs": [],
   "source": [
    "X,y=make_classification(n_samples=1000,n_features=10,n_classes=3,n_informative=3,random_state=42)"
   ]
  },
  {
   "cell_type": "code",
   "execution_count": 4,
   "id": "8b25ab1c-4340-4606-90a2-ea63afea1799",
   "metadata": {},
   "outputs": [
    {
     "data": {
      "text/html": [
       "<div>\n",
       "<style scoped>\n",
       "    .dataframe tbody tr th:only-of-type {\n",
       "        vertical-align: middle;\n",
       "    }\n",
       "\n",
       "    .dataframe tbody tr th {\n",
       "        vertical-align: top;\n",
       "    }\n",
       "\n",
       "    .dataframe thead th {\n",
       "        text-align: right;\n",
       "    }\n",
       "</style>\n",
       "<table border=\"1\" class=\"dataframe\">\n",
       "  <thead>\n",
       "    <tr style=\"text-align: right;\">\n",
       "      <th></th>\n",
       "      <th>0</th>\n",
       "      <th>1</th>\n",
       "      <th>2</th>\n",
       "      <th>3</th>\n",
       "      <th>4</th>\n",
       "      <th>5</th>\n",
       "      <th>6</th>\n",
       "      <th>7</th>\n",
       "      <th>8</th>\n",
       "      <th>9</th>\n",
       "    </tr>\n",
       "  </thead>\n",
       "  <tbody>\n",
       "    <tr>\n",
       "      <th>0</th>\n",
       "      <td>0.771533</td>\n",
       "      <td>-1.474336</td>\n",
       "      <td>2.196646</td>\n",
       "      <td>-0.678992</td>\n",
       "      <td>0.767479</td>\n",
       "      <td>-1.226179</td>\n",
       "      <td>-0.237566</td>\n",
       "      <td>0.681743</td>\n",
       "      <td>1.089962</td>\n",
       "      <td>0.962503</td>\n",
       "    </tr>\n",
       "    <tr>\n",
       "      <th>1</th>\n",
       "      <td>1.858383</td>\n",
       "      <td>-3.680880</td>\n",
       "      <td>0.227496</td>\n",
       "      <td>-3.818368</td>\n",
       "      <td>0.635968</td>\n",
       "      <td>1.609521</td>\n",
       "      <td>-0.153135</td>\n",
       "      <td>-0.474178</td>\n",
       "      <td>1.341139</td>\n",
       "      <td>-0.771772</td>\n",
       "    </tr>\n",
       "    <tr>\n",
       "      <th>2</th>\n",
       "      <td>-0.987248</td>\n",
       "      <td>1.539168</td>\n",
       "      <td>0.585904</td>\n",
       "      <td>1.185281</td>\n",
       "      <td>-0.736770</td>\n",
       "      <td>-1.406815</td>\n",
       "      <td>0.684783</td>\n",
       "      <td>-0.322028</td>\n",
       "      <td>-1.451034</td>\n",
       "      <td>1.325432</td>\n",
       "    </tr>\n",
       "    <tr>\n",
       "      <th>3</th>\n",
       "      <td>-1.022420</td>\n",
       "      <td>1.381787</td>\n",
       "      <td>2.015275</td>\n",
       "      <td>0.861434</td>\n",
       "      <td>1.290644</td>\n",
       "      <td>-1.889649</td>\n",
       "      <td>1.009138</td>\n",
       "      <td>0.363116</td>\n",
       "      <td>-1.844238</td>\n",
       "      <td>0.311110</td>\n",
       "    </tr>\n",
       "    <tr>\n",
       "      <th>4</th>\n",
       "      <td>-0.131161</td>\n",
       "      <td>-2.079008</td>\n",
       "      <td>1.483744</td>\n",
       "      <td>1.636858</td>\n",
       "      <td>-0.734811</td>\n",
       "      <td>-0.640154</td>\n",
       "      <td>2.666422</td>\n",
       "      <td>-1.085748</td>\n",
       "      <td>-0.892851</td>\n",
       "      <td>0.029796</td>\n",
       "    </tr>\n",
       "    <tr>\n",
       "      <th>...</th>\n",
       "      <td>...</td>\n",
       "      <td>...</td>\n",
       "      <td>...</td>\n",
       "      <td>...</td>\n",
       "      <td>...</td>\n",
       "      <td>...</td>\n",
       "      <td>...</td>\n",
       "      <td>...</td>\n",
       "      <td>...</td>\n",
       "      <td>...</td>\n",
       "    </tr>\n",
       "    <tr>\n",
       "      <th>995</th>\n",
       "      <td>0.982677</td>\n",
       "      <td>-1.908917</td>\n",
       "      <td>-0.385673</td>\n",
       "      <td>-2.565989</td>\n",
       "      <td>0.434503</td>\n",
       "      <td>-1.334611</td>\n",
       "      <td>-0.060318</td>\n",
       "      <td>1.040062</td>\n",
       "      <td>0.433730</td>\n",
       "      <td>-0.739771</td>\n",
       "    </tr>\n",
       "    <tr>\n",
       "      <th>996</th>\n",
       "      <td>-1.144949</td>\n",
       "      <td>1.434090</td>\n",
       "      <td>-0.459657</td>\n",
       "      <td>0.358606</td>\n",
       "      <td>-1.079842</td>\n",
       "      <td>0.918915</td>\n",
       "      <td>1.339638</td>\n",
       "      <td>1.193113</td>\n",
       "      <td>-2.473007</td>\n",
       "      <td>1.021515</td>\n",
       "    </tr>\n",
       "    <tr>\n",
       "      <th>997</th>\n",
       "      <td>-1.227082</td>\n",
       "      <td>1.656028</td>\n",
       "      <td>0.472630</td>\n",
       "      <td>1.718125</td>\n",
       "      <td>-1.366858</td>\n",
       "      <td>0.018017</td>\n",
       "      <td>1.131626</td>\n",
       "      <td>-0.863494</td>\n",
       "      <td>-1.839323</td>\n",
       "      <td>-0.031203</td>\n",
       "    </tr>\n",
       "    <tr>\n",
       "      <th>998</th>\n",
       "      <td>1.285276</td>\n",
       "      <td>-0.297152</td>\n",
       "      <td>-0.671721</td>\n",
       "      <td>-1.843337</td>\n",
       "      <td>-1.254161</td>\n",
       "      <td>-0.276889</td>\n",
       "      <td>-2.913304</td>\n",
       "      <td>-1.315441</td>\n",
       "      <td>2.854465</td>\n",
       "      <td>1.309444</td>\n",
       "    </tr>\n",
       "    <tr>\n",
       "      <th>999</th>\n",
       "      <td>-0.754280</td>\n",
       "      <td>0.885161</td>\n",
       "      <td>-1.672894</td>\n",
       "      <td>0.652953</td>\n",
       "      <td>0.404213</td>\n",
       "      <td>-0.249072</td>\n",
       "      <td>0.904253</td>\n",
       "      <td>-2.036221</td>\n",
       "      <td>-1.439896</td>\n",
       "      <td>0.047493</td>\n",
       "    </tr>\n",
       "  </tbody>\n",
       "</table>\n",
       "<p>1000 rows × 10 columns</p>\n",
       "</div>"
      ],
      "text/plain": [
       "            0         1         2         3         4         5         6  \\\n",
       "0    0.771533 -1.474336  2.196646 -0.678992  0.767479 -1.226179 -0.237566   \n",
       "1    1.858383 -3.680880  0.227496 -3.818368  0.635968  1.609521 -0.153135   \n",
       "2   -0.987248  1.539168  0.585904  1.185281 -0.736770 -1.406815  0.684783   \n",
       "3   -1.022420  1.381787  2.015275  0.861434  1.290644 -1.889649  1.009138   \n",
       "4   -0.131161 -2.079008  1.483744  1.636858 -0.734811 -0.640154  2.666422   \n",
       "..        ...       ...       ...       ...       ...       ...       ...   \n",
       "995  0.982677 -1.908917 -0.385673 -2.565989  0.434503 -1.334611 -0.060318   \n",
       "996 -1.144949  1.434090 -0.459657  0.358606 -1.079842  0.918915  1.339638   \n",
       "997 -1.227082  1.656028  0.472630  1.718125 -1.366858  0.018017  1.131626   \n",
       "998  1.285276 -0.297152 -0.671721 -1.843337 -1.254161 -0.276889 -2.913304   \n",
       "999 -0.754280  0.885161 -1.672894  0.652953  0.404213 -0.249072  0.904253   \n",
       "\n",
       "            7         8         9  \n",
       "0    0.681743  1.089962  0.962503  \n",
       "1   -0.474178  1.341139 -0.771772  \n",
       "2   -0.322028 -1.451034  1.325432  \n",
       "3    0.363116 -1.844238  0.311110  \n",
       "4   -1.085748 -0.892851  0.029796  \n",
       "..        ...       ...       ...  \n",
       "995  1.040062  0.433730 -0.739771  \n",
       "996  1.193113 -2.473007  1.021515  \n",
       "997 -0.863494 -1.839323 -0.031203  \n",
       "998 -1.315441  2.854465  1.309444  \n",
       "999 -2.036221 -1.439896  0.047493  \n",
       "\n",
       "[1000 rows x 10 columns]"
      ]
     },
     "execution_count": 4,
     "metadata": {},
     "output_type": "execute_result"
    }
   ],
   "source": [
    "pd.DataFrame(X)"
   ]
  },
  {
   "cell_type": "markdown",
   "id": "ae38c714-7e4f-4f82-b43e-27b8743b7820",
   "metadata": {},
   "source": [
    "# Train-test split"
   ]
  },
  {
   "cell_type": "code",
   "execution_count": 5,
   "id": "1a530e2c-3d59-4db5-93d0-66f69a812d91",
   "metadata": {},
   "outputs": [],
   "source": [
    "from sklearn.model_selection import train_test_split"
   ]
  },
  {
   "cell_type": "code",
   "execution_count": 6,
   "id": "99493ef0-6af5-4cb9-aa74-5cbf4d07c8bc",
   "metadata": {},
   "outputs": [],
   "source": [
    "X_train,X_test,y_train,y_test=train_test_split(X,y,test_size=0.30,random_state=42)"
   ]
  },
  {
   "cell_type": "markdown",
   "id": "48e27906-6763-4388-9d07-554e138dded5",
   "metadata": {},
   "source": [
    "# Initialize the model"
   ]
  },
  {
   "cell_type": "code",
   "execution_count": 8,
   "id": "dc2fae8f-dd8f-4405-9f29-3ebbedd9d1ec",
   "metadata": {},
   "outputs": [],
   "source": [
    "from sklearn.linear_model import LogisticRegression"
   ]
  },
  {
   "cell_type": "code",
   "execution_count": 10,
   "id": "4774db8b-338f-491b-803c-aa4fd4c8b897",
   "metadata": {},
   "outputs": [
    {
     "name": "stderr",
     "output_type": "stream",
     "text": [
      "D:\\AppData\\Python\\Lib\\site-packages\\sklearn\\linear_model\\_logistic.py:1256: FutureWarning: 'multi_class' was deprecated in version 1.5 and will be removed in 1.7. Use OneVsRestClassifier(LogisticRegression(..)) instead. Leave it to its default value to avoid this warning.\n",
      "  warnings.warn(\n"
     ]
    },
    {
     "data": {
      "text/plain": [
       "array([2, 0, 1, 2, 0, 1, 2, 0, 0, 2, 2, 2, 2, 2, 2, 2, 2, 1, 0, 0, 0, 0,\n",
       "       2, 0, 1, 0, 2, 1, 0, 2, 2, 0, 1, 0, 0, 2, 2, 2, 1, 0, 0, 1, 2, 0,\n",
       "       1, 2, 1, 0, 1, 1, 2, 0, 1, 0, 2, 2, 2, 2, 1, 2, 0, 2, 2, 2, 1, 1,\n",
       "       0, 1, 0, 1, 0, 2, 2, 0, 0, 0, 2, 1, 1, 2, 2, 0, 2, 1, 0, 1, 1, 2,\n",
       "       1, 1, 2, 2, 1, 2, 2, 2, 1, 0, 0, 0, 0, 2, 1, 0, 2, 1, 1, 0, 0, 2,\n",
       "       0, 1, 2, 0, 0, 0, 1, 1, 2, 2, 1, 0, 0, 1, 2, 0, 0, 1, 0, 2, 1, 0,\n",
       "       2, 2, 2, 0, 0, 1, 2, 1, 2, 1, 2, 1, 2, 2, 2, 0, 0, 1, 2, 0, 0, 2,\n",
       "       1, 0, 0, 0, 2, 0, 0, 0, 2, 2, 2, 2, 2, 1, 2, 1, 0, 2, 1, 0, 0, 2,\n",
       "       0, 1, 1, 2, 2, 0, 0, 2, 0, 0, 0, 2, 0, 0, 0, 0, 2, 1, 2, 2, 1, 2,\n",
       "       0, 1, 2, 2, 1, 1, 0, 2, 1, 2, 2, 2, 2, 2, 0, 0, 0, 0, 0, 0, 1, 0,\n",
       "       1, 2, 2, 2, 0, 0, 0, 0, 0, 2, 2, 0, 0, 2, 2, 1, 0, 1, 2, 0, 0, 2,\n",
       "       0, 2, 0, 0, 2, 2, 0, 2, 2, 0, 1, 2, 2, 0, 1, 1, 0, 1, 2, 0, 2, 2,\n",
       "       0, 0, 0, 2, 1, 2, 0, 2, 2, 2, 0, 2, 0, 2, 2, 0, 0, 1, 0, 2, 2, 2,\n",
       "       0, 2, 2, 0, 2, 2, 0, 2, 0, 0, 2, 2, 0, 1])"
      ]
     },
     "execution_count": 10,
     "metadata": {},
     "output_type": "execute_result"
    }
   ],
   "source": [
    "logistic=LogisticRegression(multi_class='ovr')\n",
    "logistic.fit(X_train,y_train)\n",
    "y_pred=logistic.predict(X_test)\n",
    "y_pred"
   ]
  },
  {
   "cell_type": "code",
   "execution_count": 12,
   "id": "0e8669de-d28e-416d-a2ff-4d7fdb34ff9d",
   "metadata": {},
   "outputs": [],
   "source": [
    "from sklearn.metrics import accuracy_score\n",
    "from sklearn.metrics import confusion_matrix\n",
    "from sklearn.metrics import classification_report"
   ]
  },
  {
   "cell_type": "code",
   "execution_count": 13,
   "id": "4f9dce38-31e4-423d-a171-fe34228084f8",
   "metadata": {},
   "outputs": [
    {
     "name": "stdout",
     "output_type": "stream",
     "text": [
      "0.68\n",
      "[[79 16  8]\n",
      " [31 38 27]\n",
      " [ 3 11 87]]\n",
      "              precision    recall  f1-score   support\n",
      "\n",
      "           0       0.70      0.77      0.73       103\n",
      "           1       0.58      0.40      0.47        96\n",
      "           2       0.71      0.86      0.78       101\n",
      "\n",
      "    accuracy                           0.68       300\n",
      "   macro avg       0.67      0.67      0.66       300\n",
      "weighted avg       0.67      0.68      0.66       300\n",
      "\n"
     ]
    }
   ],
   "source": [
    "score=accuracy_score(y_test,y_pred)\n",
    "print(score)\n",
    "cm=confusion_matrix(y_test,y_pred)\n",
    "print(cm)\n",
    "print(classification_report(y_test,y_pred))"
   ]
  },
  {
   "cell_type": "code",
   "execution_count": null,
   "id": "d5fc4641-3805-4cc4-aeda-f485921f5389",
   "metadata": {},
   "outputs": [],
   "source": []
  }
 ],
 "metadata": {
  "kernelspec": {
   "display_name": "Python 3 (ipykernel)",
   "language": "python",
   "name": "python3"
  },
  "language_info": {
   "codemirror_mode": {
    "name": "ipython",
    "version": 3
   },
   "file_extension": ".py",
   "mimetype": "text/x-python",
   "name": "python",
   "nbconvert_exporter": "python",
   "pygments_lexer": "ipython3",
   "version": "3.12.3"
  }
 },
 "nbformat": 4,
 "nbformat_minor": 5
}
